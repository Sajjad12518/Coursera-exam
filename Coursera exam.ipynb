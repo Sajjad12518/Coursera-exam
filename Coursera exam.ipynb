{
  "metadata": {
    "language_info": {
      "codemirror_mode": {
        "name": "python",
        "version": 3
      },
      "file_extension": ".py",
      "mimetype": "text/x-python",
      "name": "python",
      "nbconvert_exporter": "python",
      "pygments_lexer": "ipython3",
      "version": "3.8"
    },
    "kernelspec": {
      "name": "python",
      "display_name": "Pyolite",
      "language": "python"
    }
  },
  "nbformat_minor": 4,
  "nbformat": 4,
  "cells": [
    {
      "cell_type": "markdown",
      "source": "# My Jupyter Notebook on IBM Watson Studio\n",
      "metadata": {}
    },
    {
      "cell_type": "markdown",
      "source": "**Sajjad Thaer** \n\nMarketing officer",
      "metadata": {}
    },
    {
      "cell_type": "markdown",
      "source": "*I am interested in data science because I wnat to explore more advanced concepts and just to entertain my mind in general.*",
      "metadata": {}
    },
    {
      "cell_type": "markdown",
      "source": "### My code do a simple math\n",
      "metadata": {}
    },
    {
      "cell_type": "code",
      "source": "3*3",
      "metadata": {
        "trusted": true
      },
      "execution_count": 1,
      "outputs": [
        {
          "execution_count": 1,
          "output_type": "execute_result",
          "data": {
            "text/plain": "9"
          },
          "metadata": {}
        }
      ]
    },
    {
      "cell_type": "markdown",
      "source": "List of book I'm going to buy this week:\n1. Being and time\n2. Infinte Jest\n3. Phenomenology of perception\n\nBooks I will read in before that:\n- descartes's meditation\n- Cartesian Meditations\n- Ideas\n- The Crisis of European Sciences and Transcendental Phenomenology",
      "metadata": {}
    },
    {
      "cell_type": "markdown",
      "source": "> To be indeed a God!",
      "metadata": {}
    }
  ]
}